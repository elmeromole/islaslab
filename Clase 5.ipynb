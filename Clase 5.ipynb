{
 "cells": [
  {
   "cell_type": "code",
   "execution_count": 1,
   "metadata": {},
   "outputs": [],
   "source": [
    "from pylab import *\n",
    "%matplotlib inline"
   ]
  },
  {
   "cell_type": "markdown",
   "metadata": {},
   "source": [
    "# Runge Kutta"
   ]
  },
  {
   "cell_type": "code",
   "execution_count": 24,
   "metadata": {},
   "outputs": [],
   "source": [
    "def rk4(ec,p_ini,x,h=0.001):\n",
    "    if (x[1]-x[0]) <= 5.*h:\n",
    "        h = (x[1]-[0])/10\n",
    "        \n",
    "    tiempos = arange(x[0],x[1]+h,h)\n",
    "    sol = zeros ((len(tiempos),len(p_ini)))\n",
    "    sol[0,:] = p_ini\n",
    "    for i in range(len(tiempos)-1):\n",
    "        k1 = ec(sol[i,:],tiempos[i])\n",
    "        k2 = ec(sol[i,:]+0.5*h*k1,tiempos[i]+0.5*h)\n",
    "        k3 = ec(sol[i,:]+0.5*h*k2,tiempos[i]+0.5*h)\n",
    "        k4 = ec(sol[i,:]+h*k3,tiempos[i]+h)\n",
    "        \n",
    "        sol[i+1,:] = sol[i,:] + (h/6.)*(k1+2*k2+2*k3+k4)\n",
    "        \n",
    "    return tiempos, sol"
   ]
  },
  {
   "cell_type": "code",
   "execution_count": 32,
   "metadata": {},
   "outputs": [],
   "source": [
    "def ec_mov(r_v,t,g=9.8,m=3):\n",
    "    \n",
    "    dx = r_v[2]\n",
    "    dy = r_v[3]\n",
    "    \n",
    "    dvx = 0\n",
    "    dvy = -(g/m)\n",
    "    \n",
    "    return array([dx,dy,dvx,dvy])"
   ]
  },
  {
   "cell_type": "code",
   "execution_count": 33,
   "metadata": {},
   "outputs": [
    {
     "data": {
      "text/plain": [
       "[<matplotlib.lines.Line2D at 0x10dd06a10>]"
      ]
     },
     "execution_count": 33,
     "metadata": {},
     "output_type": "execute_result"
    },
    {
     "data": {
      "image/png": "[encoded data removed]",
      "text/plain": [
       "<matplotlib.figure.Figure at 0x10d8c2dd0>"
      ]
     },
     "metadata": {},
     "output_type": "display_data"
    }
   ],
   "source": [
    "p_ini = [0,0,5,5]\n",
    "t,sol = rk4(ec_mov,p_ini,[0,2])\n",
    "plot(sol[:,0],sol[:,1])"
   ]
  },
  {
   "cell_type": "code",
   "execution_count": 34,
   "metadata": {},
   "outputs": [],
   "source": [
    "def ec_mov_fri(r_v,t,gamma=1,g=9.8,m=3):\n",
    "    \n",
    "    dx = r_v[2]\n",
    "    dy = r_v[3]\n",
    "    \n",
    "    dvx = -gamma*r_v[2]\n",
    "    dvy = -gamma*r_v[3]-(g/m)\n",
    "    \n",
    "    return array([dx,dy,dvx,dvy])"
   ]
  },
  {
   "cell_type": "code",
   "execution_count": 35,
   "metadata": {},
   "outputs": [
    {
     "data": {
      "text/plain": [
       "[<matplotlib.lines.Line2D at 0x10de29bd0>]"
      ]
     },
     "execution_count": 35,
     "metadata": {},
     "output_type": "execute_result"
    },
    {
     "data": {
      "image/png": "[encoded data removed]",
      "text/plain": [
       "<matplotlib.figure.Figure at 0x1069e43d0>"
      ]
     },
     "metadata": {},
     "output_type": "display_data"
    }
   ],
   "source": [
    "p_ini = [0,0,5,5]\n",
    "t,sol = rk4(ec_mov,p_ini,[0,2])\n",
    "plot(sol[:,0],sol[:,1])\n",
    "\n",
    "tf, solf= rk4(ec_mov_fri,p_ini,[0,2])\n",
    "plot(solf[:,0],solf[:,1])"
   ]
  }
 ],
 "metadata": {
  "kernelspec": {
   "display_name": "Python 2",
   "language": "python",
   "name": "python2"
  },
  "language_info": {
   "codemirror_mode": {
    "name": "ipython",
    "version": 2
   },
   "file_extension": ".py",
   "mimetype": "text/x-python",
   "name": "python",
   "nbconvert_exporter": "python",
   "pygments_lexer": "ipython2",
   "version": "2.7.13"
  }
 },
 "nbformat": 4,
 "nbformat_minor": 2
}
